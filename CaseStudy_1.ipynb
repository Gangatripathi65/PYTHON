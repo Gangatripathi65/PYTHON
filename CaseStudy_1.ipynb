{
  "nbformat": 4,
  "nbformat_minor": 0,
  "metadata": {
    "colab": {
      "provenance": [],
      "authorship_tag": "ABX9TyObQAMZna/Zt71VV4SN0qKt",
      "include_colab_link": true
    },
    "kernelspec": {
      "name": "python3",
      "display_name": "Python 3"
    },
    "language_info": {
      "name": "python"
    }
  },
  "cells": [
    {
      "cell_type": "markdown",
      "metadata": {
        "id": "view-in-github",
        "colab_type": "text"
      },
      "source": [
        "<a href=\"https://colab.research.google.com/github/Gangatripathi65/PYTHON/blob/main/CaseStudy_1.ipynb\" target=\"_parent\"><img src=\"https://colab.research.google.com/assets/colab-badge.svg\" alt=\"Open In Colab\"/></a>"
      ]
    },
    {
      "cell_type": "code",
      "source": [
        "a=float(input(\"Enter the cost of 1st item\"))\n",
        "b=float(input(\"Enter the cost of 2nd item\"))\n",
        "c=float(input(\"Enter the cost of 3rd item\"))\n",
        "total_cost=a+b+c\n",
        "print(f\"The total cost before discount={total_cost}\")\n",
        "if total_cost>50:\n",
        "  e=total_cost-(0.1*total_cost)\n",
        "  print(f\"The cost after discount is ={e}\")\n",
        "else:\n",
        "  print(\"Discount not available\")\n",
        "\n"
      ],
      "metadata": {
        "colab": {
          "base_uri": "https://localhost:8080/"
        },
        "id": "zJ29sfab-ttg",
        "outputId": "19cbeabc-2a73-4922-b386-53c0a23a60c6"
      },
      "execution_count": 10,
      "outputs": [
        {
          "output_type": "stream",
          "name": "stdout",
          "text": [
            "Enter the cost of 1st item25\n",
            "Enter the cost of 2nd item25\n",
            "Enter the cost of 3rd item50\n",
            "The total cost before discount=100.0\n",
            "The cost after discount is =90.0\n"
          ]
        }
      ]
    }
  ]
}